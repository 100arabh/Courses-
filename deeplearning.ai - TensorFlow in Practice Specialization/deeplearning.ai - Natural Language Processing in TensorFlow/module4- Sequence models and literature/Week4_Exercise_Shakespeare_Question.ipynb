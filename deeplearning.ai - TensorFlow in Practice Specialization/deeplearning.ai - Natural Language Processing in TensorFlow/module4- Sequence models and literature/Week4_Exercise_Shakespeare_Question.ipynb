{
  "nbformat": 4,
  "nbformat_minor": 0,
  "metadata": {
    "accelerator": "GPU",
    "colab": {
      "name": "NLP_Week4_Exercise_Shakespeare_Question.ipynb",
      "provenance": [],
      "toc_visible": true
    },
    "kernelspec": {
      "display_name": "Python 3",
      "name": "python3"
    }
  },
  "cells": [
    {
      "cell_type": "code",
      "metadata": {
        "id": "zX4Kg8DUTKWO",
        "colab_type": "code",
        "colab": {}
      },
      "source": [
        "#@title Licensed under the Apache License, Version 2.0 (the \"License\");\n",
        "# you may not use this file except in compliance with the License.\n",
        "# You may obtain a copy of the License at\n",
        "#\n",
        "# https://www.apache.org/licenses/LICENSE-2.0\n",
        "#\n",
        "# Unless required by applicable law or agreed to in writing, software\n",
        "# distributed under the License is distributed on an \"AS IS\" BASIS,\n",
        "# WITHOUT WARRANTIES OR CONDITIONS OF ANY KIND, either express or implied.\n",
        "# See the License for the specific language governing permissions and\n",
        "# limitations under the License."
      ],
      "execution_count": null,
      "outputs": []
    },
    {
      "cell_type": "code",
      "metadata": {
        "colab_type": "code",
        "id": "BOwsuGQQY9OL",
        "colab": {}
      },
      "source": [
        "#### salimt\n",
        "\n",
        "from tensorflow.keras.preprocessing.sequence import pad_sequences\n",
        "from tensorflow.keras.layers import Embedding, LSTM, Dense, Dropout, Bidirectional\n",
        "from tensorflow.keras.preprocessing.text import Tokenizer\n",
        "from tensorflow.keras.models import Sequential\n",
        "from tensorflow.keras.optimizers import Adam\n",
        "### YOUR CODE HERE\n",
        "# Figure out how to import regularizers\n",
        "###\n",
        "import tensorflow.keras.utils as ku \n",
        "import numpy as np "
      ],
      "execution_count": 1,
      "outputs": []
    },
    {
      "cell_type": "code",
      "metadata": {
        "colab_type": "code",
        "id": "PRnDnCW-Z7qv",
        "colab": {
          "base_uri": "https://localhost:8080/",
          "height": 204
        },
        "outputId": "31e934cf-52a4-4631-bc30-618463db20b9"
      },
      "source": [
        "tokenizer = Tokenizer()\n",
        "!wget --no-check-certificate \\\n",
        "    https://storage.googleapis.com/laurencemoroney-blog.appspot.com/sonnets.txt \\\n",
        "    -O /tmp/sonnets.txt\n",
        "data = open('/tmp/sonnets.txt').read()\n",
        "\n",
        "corpus = data.lower().split(\"\\n\")\n",
        "\n",
        "\n",
        "tokenizer.fit_on_texts(corpus)\n",
        "total_words = len(tokenizer.word_index) + 1\n",
        "\n",
        "# create input sequences using list of tokens\n",
        "input_sequences = []\n",
        "for line in corpus:\n",
        "\ttoken_list = tokenizer.texts_to_sequences([line])[0]\n",
        "\tfor i in range(1, len(token_list)):\n",
        "\t\tn_gram_sequence = token_list[:i+1]\n",
        "\t\tinput_sequences.append(n_gram_sequence)\n",
        "\n",
        "\n",
        "# pad sequences \n",
        "max_sequence_len = max([len(x) for x in input_sequences])\n",
        "input_sequences = np.array(pad_sequences(input_sequences, maxlen=max_sequence_len, padding='pre'))\n",
        "\n",
        "# create predictors and label\n",
        "predictors, label = input_sequences[:,:-1],input_sequences[:,-1]\n",
        "\n",
        "label = ku.to_categorical(label, num_classes=total_words)"
      ],
      "execution_count": 2,
      "outputs": [
        {
          "output_type": "stream",
          "text": [
            "--2020-08-06 16:25:43--  https://storage.googleapis.com/laurencemoroney-blog.appspot.com/sonnets.txt\n",
            "Resolving storage.googleapis.com (storage.googleapis.com)... 74.125.20.128, 74.125.142.128, 74.125.195.128, ...\n",
            "Connecting to storage.googleapis.com (storage.googleapis.com)|74.125.20.128|:443... connected.\n",
            "HTTP request sent, awaiting response... 200 OK\n",
            "Length: 93578 (91K) [text/plain]\n",
            "Saving to: ‘/tmp/sonnets.txt’\n",
            "\n",
            "\r/tmp/sonnets.txt      0%[                    ]       0  --.-KB/s               \r/tmp/sonnets.txt    100%[===================>]  91.38K  --.-KB/s    in 0.001s  \n",
            "\n",
            "2020-08-06 16:25:43 (120 MB/s) - ‘/tmp/sonnets.txt’ saved [93578/93578]\n",
            "\n"
          ],
          "name": "stdout"
        }
      ]
    },
    {
      "cell_type": "code",
      "metadata": {
        "colab_type": "code",
        "id": "w9vH8Y59ajYL",
        "colab": {
          "base_uri": "https://localhost:8080/",
          "height": 374
        },
        "outputId": "af390154-09ed-486e-ffd7-706e0901cb79"
      },
      "source": [
        "model = Sequential()\n",
        "model.add(Embedding(total_words, 100, input_length=max_sequence_len-1))\n",
        "model.add(Bidirectional(LSTM(150, return_sequences=True)))\n",
        "model.add(Dropout(0.2))\n",
        "model.add(Bidirectional(LSTM(150)))\n",
        "model.add(Dense(total_words/2, activation='relu', activity_regularizer=l1(0.001)))\n",
        "model.add(Dense(total_words, activation='softmax'))\n",
        "# Pick an optimizer\n",
        "model.compile(loss='categorical_crossentropy', optimizer=\"adam\", metrics=['accuracy'])\n",
        "print(model.summary())"
      ],
      "execution_count": 99,
      "outputs": [
        {
          "output_type": "stream",
          "text": [
            "Model: \"sequential_61\"\n",
            "_________________________________________________________________\n",
            "Layer (type)                 Output Shape              Param #   \n",
            "=================================================================\n",
            "embedding_57 (Embedding)     (None, 10, 100)           321100    \n",
            "_________________________________________________________________\n",
            "bidirectional_100 (Bidirecti (None, 10, 300)           301200    \n",
            "_________________________________________________________________\n",
            "dropout_56 (Dropout)         (None, 10, 300)           0         \n",
            "_________________________________________________________________\n",
            "bidirectional_101 (Bidirecti (None, 300)               541200    \n",
            "_________________________________________________________________\n",
            "dense_86 (Dense)             (None, 1605)              483105    \n",
            "_________________________________________________________________\n",
            "dense_87 (Dense)             (None, 3211)              5156866   \n",
            "=================================================================\n",
            "Total params: 6,803,471\n",
            "Trainable params: 6,803,471\n",
            "Non-trainable params: 0\n",
            "_________________________________________________________________\n",
            "None\n"
          ],
          "name": "stdout"
        }
      ]
    },
    {
      "cell_type": "code",
      "metadata": {
        "colab_type": "code",
        "id": "AIg2f1HBxqof",
        "colab": {
          "base_uri": "https://localhost:8080/",
          "height": 1000
        },
        "outputId": "12e306f5-5458-4fd4-99b9-2e1f29201941"
      },
      "source": [
        " history = model.fit(predictors, label, epochs=100, verbose=1)"
      ],
      "execution_count": 100,
      "outputs": [
        {
          "output_type": "stream",
          "text": [
            "Epoch 1/100\n",
            "484/484 [==============================] - 7s 15ms/step - loss: 6.8579 - accuracy: 0.0227\n",
            "Epoch 2/100\n",
            "484/484 [==============================] - 7s 14ms/step - loss: 6.4839 - accuracy: 0.0270\n",
            "Epoch 3/100\n",
            "484/484 [==============================] - 7s 14ms/step - loss: 6.2779 - accuracy: 0.0345\n",
            "Epoch 4/100\n",
            "484/484 [==============================] - 7s 14ms/step - loss: 6.0951 - accuracy: 0.0402\n",
            "Epoch 5/100\n",
            "484/484 [==============================] - 7s 14ms/step - loss: 5.8744 - accuracy: 0.0491\n",
            "Epoch 6/100\n",
            "484/484 [==============================] - 7s 14ms/step - loss: 5.6233 - accuracy: 0.0640\n",
            "Epoch 7/100\n",
            "484/484 [==============================] - 7s 14ms/step - loss: 5.3698 - accuracy: 0.0786\n",
            "Epoch 8/100\n",
            "484/484 [==============================] - 7s 14ms/step - loss: 5.0966 - accuracy: 0.0898\n",
            "Epoch 9/100\n",
            "484/484 [==============================] - 7s 14ms/step - loss: 4.8074 - accuracy: 0.1061\n",
            "Epoch 10/100\n",
            "484/484 [==============================] - 7s 15ms/step - loss: 4.4768 - accuracy: 0.1277\n",
            "Epoch 11/100\n",
            "484/484 [==============================] - 7s 14ms/step - loss: 4.1280 - accuracy: 0.1572\n",
            "Epoch 12/100\n",
            "484/484 [==============================] - 7s 14ms/step - loss: 3.7744 - accuracy: 0.1985\n",
            "Epoch 13/100\n",
            "484/484 [==============================] - 7s 14ms/step - loss: 3.4027 - accuracy: 0.2496\n",
            "Epoch 14/100\n",
            "484/484 [==============================] - 7s 14ms/step - loss: 3.0451 - accuracy: 0.3177\n",
            "Epoch 15/100\n",
            "484/484 [==============================] - 7s 14ms/step - loss: 2.7282 - accuracy: 0.3745\n",
            "Epoch 16/100\n",
            "484/484 [==============================] - 7s 14ms/step - loss: 2.4334 - accuracy: 0.4380\n",
            "Epoch 17/100\n",
            "484/484 [==============================] - 7s 14ms/step - loss: 2.1724 - accuracy: 0.4950\n",
            "Epoch 18/100\n",
            "484/484 [==============================] - 7s 14ms/step - loss: 1.9453 - accuracy: 0.5465\n",
            "Epoch 19/100\n",
            "484/484 [==============================] - 7s 15ms/step - loss: 1.7668 - accuracy: 0.5874\n",
            "Epoch 20/100\n",
            "484/484 [==============================] - 7s 14ms/step - loss: 1.6032 - accuracy: 0.6252\n",
            "Epoch 21/100\n",
            "484/484 [==============================] - 7s 14ms/step - loss: 1.4639 - accuracy: 0.6643\n",
            "Epoch 22/100\n",
            "484/484 [==============================] - 7s 14ms/step - loss: 1.3436 - accuracy: 0.6941\n",
            "Epoch 23/100\n",
            "484/484 [==============================] - 7s 14ms/step - loss: 1.2289 - accuracy: 0.7245\n",
            "Epoch 24/100\n",
            "484/484 [==============================] - 7s 14ms/step - loss: 1.1506 - accuracy: 0.7393\n",
            "Epoch 25/100\n",
            "484/484 [==============================] - 7s 14ms/step - loss: 1.1083 - accuracy: 0.7502\n",
            "Epoch 26/100\n",
            "484/484 [==============================] - 7s 14ms/step - loss: 1.0475 - accuracy: 0.7627\n",
            "Epoch 27/100\n",
            "484/484 [==============================] - 7s 14ms/step - loss: 1.0042 - accuracy: 0.7726\n",
            "Epoch 28/100\n",
            "484/484 [==============================] - 7s 14ms/step - loss: 0.9386 - accuracy: 0.7903\n",
            "Epoch 29/100\n",
            "484/484 [==============================] - 7s 14ms/step - loss: 0.9034 - accuracy: 0.7983\n",
            "Epoch 30/100\n",
            "484/484 [==============================] - 7s 14ms/step - loss: 0.8994 - accuracy: 0.7986\n",
            "Epoch 31/100\n",
            "484/484 [==============================] - 7s 14ms/step - loss: 0.8845 - accuracy: 0.8020\n",
            "Epoch 32/100\n",
            "484/484 [==============================] - 7s 14ms/step - loss: 0.8670 - accuracy: 0.8049\n",
            "Epoch 33/100\n",
            "484/484 [==============================] - 7s 14ms/step - loss: 0.8405 - accuracy: 0.8142\n",
            "Epoch 34/100\n",
            "484/484 [==============================] - 7s 14ms/step - loss: 0.8190 - accuracy: 0.8172\n",
            "Epoch 35/100\n",
            "484/484 [==============================] - 7s 14ms/step - loss: 0.7930 - accuracy: 0.8233\n",
            "Epoch 36/100\n",
            "484/484 [==============================] - 7s 14ms/step - loss: 0.7894 - accuracy: 0.8223\n",
            "Epoch 37/100\n",
            "484/484 [==============================] - 7s 14ms/step - loss: 0.7873 - accuracy: 0.8251\n",
            "Epoch 38/100\n",
            "484/484 [==============================] - 7s 14ms/step - loss: 0.7795 - accuracy: 0.8241\n",
            "Epoch 39/100\n",
            "484/484 [==============================] - 7s 14ms/step - loss: 0.7774 - accuracy: 0.8247\n",
            "Epoch 40/100\n",
            "484/484 [==============================] - 7s 14ms/step - loss: 0.7592 - accuracy: 0.8284\n",
            "Epoch 41/100\n",
            "484/484 [==============================] - 7s 14ms/step - loss: 0.7526 - accuracy: 0.8292\n",
            "Epoch 42/100\n",
            "484/484 [==============================] - 7s 14ms/step - loss: 0.7405 - accuracy: 0.8326\n",
            "Epoch 43/100\n",
            "484/484 [==============================] - 7s 14ms/step - loss: 0.7433 - accuracy: 0.8295\n",
            "Epoch 44/100\n",
            "484/484 [==============================] - 7s 14ms/step - loss: 0.7413 - accuracy: 0.8319\n",
            "Epoch 45/100\n",
            "484/484 [==============================] - 7s 14ms/step - loss: 0.7294 - accuracy: 0.8348\n",
            "Epoch 46/100\n",
            "484/484 [==============================] - 7s 14ms/step - loss: 0.7287 - accuracy: 0.8325\n",
            "Epoch 47/100\n",
            "484/484 [==============================] - 7s 14ms/step - loss: 0.7377 - accuracy: 0.8289\n",
            "Epoch 48/100\n",
            "484/484 [==============================] - 7s 14ms/step - loss: 0.7155 - accuracy: 0.8347\n",
            "Epoch 49/100\n",
            "484/484 [==============================] - 7s 14ms/step - loss: 0.7129 - accuracy: 0.8356\n",
            "Epoch 50/100\n",
            "484/484 [==============================] - 7s 14ms/step - loss: 0.7091 - accuracy: 0.8371\n",
            "Epoch 51/100\n",
            "484/484 [==============================] - 7s 14ms/step - loss: 0.7011 - accuracy: 0.8374\n",
            "Epoch 52/100\n",
            "484/484 [==============================] - 7s 14ms/step - loss: 0.7007 - accuracy: 0.8371\n",
            "Epoch 53/100\n",
            "484/484 [==============================] - 7s 14ms/step - loss: 0.6930 - accuracy: 0.8382\n",
            "Epoch 54/100\n",
            "484/484 [==============================] - 7s 14ms/step - loss: 0.7022 - accuracy: 0.8372\n",
            "Epoch 55/100\n",
            "484/484 [==============================] - 7s 14ms/step - loss: 0.6937 - accuracy: 0.8371\n",
            "Epoch 56/100\n",
            "484/484 [==============================] - 7s 14ms/step - loss: 0.7061 - accuracy: 0.8350\n",
            "Epoch 57/100\n",
            "484/484 [==============================] - 7s 14ms/step - loss: 0.6968 - accuracy: 0.8344\n",
            "Epoch 58/100\n",
            "484/484 [==============================] - 7s 14ms/step - loss: 0.6873 - accuracy: 0.8381\n",
            "Epoch 59/100\n",
            "484/484 [==============================] - 7s 14ms/step - loss: 0.6923 - accuracy: 0.8353\n",
            "Epoch 60/100\n",
            "484/484 [==============================] - 7s 14ms/step - loss: 0.6806 - accuracy: 0.8392\n",
            "Epoch 61/100\n",
            "484/484 [==============================] - 7s 14ms/step - loss: 0.6733 - accuracy: 0.8409\n",
            "Epoch 62/100\n",
            "484/484 [==============================] - 7s 14ms/step - loss: 0.6598 - accuracy: 0.8446\n",
            "Epoch 63/100\n",
            "484/484 [==============================] - 7s 15ms/step - loss: 0.6692 - accuracy: 0.8419\n",
            "Epoch 64/100\n",
            "484/484 [==============================] - 7s 14ms/step - loss: 0.6674 - accuracy: 0.8413\n",
            "Epoch 65/100\n",
            "484/484 [==============================] - 7s 14ms/step - loss: 0.6825 - accuracy: 0.8373\n",
            "Epoch 66/100\n",
            "484/484 [==============================] - 7s 14ms/step - loss: 0.6987 - accuracy: 0.8326\n",
            "Epoch 67/100\n",
            "484/484 [==============================] - 7s 14ms/step - loss: 0.6828 - accuracy: 0.8369\n",
            "Epoch 68/100\n",
            "484/484 [==============================] - 7s 14ms/step - loss: 0.6730 - accuracy: 0.8391\n",
            "Epoch 69/100\n",
            "484/484 [==============================] - 7s 14ms/step - loss: 0.6542 - accuracy: 0.8417\n",
            "Epoch 70/100\n",
            "484/484 [==============================] - 7s 14ms/step - loss: 0.6526 - accuracy: 0.8430\n",
            "Epoch 71/100\n",
            "484/484 [==============================] - 7s 14ms/step - loss: 0.6593 - accuracy: 0.8419\n",
            "Epoch 72/100\n",
            "484/484 [==============================] - 7s 14ms/step - loss: 0.6558 - accuracy: 0.8418\n",
            "Epoch 73/100\n",
            "484/484 [==============================] - 7s 14ms/step - loss: 0.6622 - accuracy: 0.8397\n",
            "Epoch 74/100\n",
            "484/484 [==============================] - 7s 14ms/step - loss: 0.6685 - accuracy: 0.8370\n",
            "Epoch 75/100\n",
            "484/484 [==============================] - 7s 14ms/step - loss: 0.6571 - accuracy: 0.8410\n",
            "Epoch 76/100\n",
            "484/484 [==============================] - 6s 13ms/step - loss: 0.6583 - accuracy: 0.8412\n",
            "Epoch 77/100\n",
            "484/484 [==============================] - 6s 13ms/step - loss: 0.6540 - accuracy: 0.8421\n",
            "Epoch 78/100\n",
            "484/484 [==============================] - 6s 13ms/step - loss: 0.6445 - accuracy: 0.8428\n",
            "Epoch 79/100\n",
            "484/484 [==============================] - 6s 13ms/step - loss: 0.6406 - accuracy: 0.8456\n",
            "Epoch 80/100\n",
            "484/484 [==============================] - 6s 13ms/step - loss: 0.6536 - accuracy: 0.8415\n",
            "Epoch 81/100\n",
            "484/484 [==============================] - 6s 13ms/step - loss: 0.6468 - accuracy: 0.8425\n",
            "Epoch 82/100\n",
            "484/484 [==============================] - 7s 14ms/step - loss: 0.6477 - accuracy: 0.8427\n",
            "Epoch 83/100\n",
            "484/484 [==============================] - 6s 13ms/step - loss: 0.6409 - accuracy: 0.8421\n",
            "Epoch 84/100\n",
            "484/484 [==============================] - 6s 13ms/step - loss: 0.6599 - accuracy: 0.8390\n",
            "Epoch 85/100\n",
            "484/484 [==============================] - 6s 13ms/step - loss: 0.6519 - accuracy: 0.8388\n",
            "Epoch 86/100\n",
            "484/484 [==============================] - 6s 13ms/step - loss: 0.6363 - accuracy: 0.8453\n",
            "Epoch 87/100\n",
            "484/484 [==============================] - 6s 13ms/step - loss: 0.6397 - accuracy: 0.8439\n",
            "Epoch 88/100\n",
            "484/484 [==============================] - 6s 13ms/step - loss: 0.6428 - accuracy: 0.8406\n",
            "Epoch 89/100\n",
            "484/484 [==============================] - 6s 13ms/step - loss: 0.6360 - accuracy: 0.8416\n",
            "Epoch 90/100\n",
            "484/484 [==============================] - 6s 13ms/step - loss: 0.6388 - accuracy: 0.8429\n",
            "Epoch 91/100\n",
            "484/484 [==============================] - 6s 13ms/step - loss: 0.6376 - accuracy: 0.8421\n",
            "Epoch 92/100\n",
            "484/484 [==============================] - 6s 13ms/step - loss: 0.6287 - accuracy: 0.8455\n",
            "Epoch 93/100\n",
            "484/484 [==============================] - 6s 13ms/step - loss: 0.6285 - accuracy: 0.8451\n",
            "Epoch 94/100\n",
            "484/484 [==============================] - 6s 13ms/step - loss: 0.6325 - accuracy: 0.8447\n",
            "Epoch 95/100\n",
            "484/484 [==============================] - 6s 13ms/step - loss: 0.6327 - accuracy: 0.8430\n",
            "Epoch 96/100\n",
            "484/484 [==============================] - 6s 13ms/step - loss: 0.6365 - accuracy: 0.8423\n",
            "Epoch 97/100\n",
            "484/484 [==============================] - 7s 13ms/step - loss: 0.6358 - accuracy: 0.8406\n",
            "Epoch 98/100\n",
            "484/484 [==============================] - 7s 14ms/step - loss: 0.6201 - accuracy: 0.8455\n",
            "Epoch 99/100\n",
            "484/484 [==============================] - 7s 14ms/step - loss: 0.6183 - accuracy: 0.8474\n",
            "Epoch 100/100\n",
            "484/484 [==============================] - 6s 13ms/step - loss: 0.6239 - accuracy: 0.8448\n"
          ],
          "name": "stdout"
        }
      ]
    },
    {
      "cell_type": "code",
      "metadata": {
        "colab_type": "code",
        "id": "1fXTEO3GJ282",
        "colab": {
          "base_uri": "https://localhost:8080/",
          "height": 545
        },
        "outputId": "9b216188-26bc-426e-9e7a-67b1bb874e55"
      },
      "source": [
        "import matplotlib.pyplot as plt\n",
        "acc = history.history['accuracy']\n",
        "loss = history.history['loss']\n",
        "\n",
        "epochs = range(len(acc))\n",
        "\n",
        "plt.plot(epochs, acc, 'b', label='Training accuracy')\n",
        "plt.title('Training accuracy')\n",
        "\n",
        "plt.figure()\n",
        "\n",
        "plt.plot(epochs, loss, 'b', label='Training Loss')\n",
        "plt.title('Training loss')\n",
        "plt.legend()\n",
        "\n",
        "plt.show()"
      ],
      "execution_count": 101,
      "outputs": [
        {
          "output_type": "display_data",
          "data": {
            "image/png": "[encoded data removed]",
            "text/plain": [
              "<Figure size 432x288 with 1 Axes>"
            ]
          },
          "metadata": {
            "tags": [],
            "needs_background": "light"
          }
        },
        {
          "output_type": "display_data",
          "data": {
            "image/png": "[encoded data removed]",
            "text/plain": [
              "<Figure size 432x288 with 1 Axes>"
            ]
          },
          "metadata": {
            "tags": [],
            "needs_background": "light"
          }
        }
      ]
    },
    {
      "cell_type": "code",
      "metadata": {
        "colab_type": "code",
        "id": "6Vc6PHgxa6Hm",
        "colab": {
          "base_uri": "https://localhost:8080/",
          "height": 105
        },
        "outputId": "ab583efc-fdda-4b67-9e08-6f49f55656bd"
      },
      "source": [
        "seed_text = \"Help me Obi Wan Kenobi, you're my only hope\"\n",
        "next_words = 100\n",
        "  \n",
        "for _ in range(next_words):\n",
        "\ttoken_list = tokenizer.texts_to_sequences([seed_text])[0]\n",
        "\ttoken_list = pad_sequences([token_list], maxlen=max_sequence_len-1, padding='pre')\n",
        "\tpredicted = model.predict_classes(token_list, verbose=0)\n",
        "\toutput_word = \"\"\n",
        "\tfor word, index in tokenizer.word_index.items():\n",
        "\t\tif index == predicted:\n",
        "\t\t\toutput_word = word\n",
        "\t\t\tbreak\n",
        "\tseed_text += \" \" + output_word\n",
        "print(seed_text)"
      ],
      "execution_count": 102,
      "outputs": [
        {
          "output_type": "stream",
          "text": [
            "WARNING:tensorflow:From <ipython-input-102-622d307fa19a>:7: Sequential.predict_classes (from tensorflow.python.keras.engine.sequential) is deprecated and will be removed after 2021-01-01.\n",
            "Instructions for updating:\n",
            "Please use instead:* `np.argmax(model.predict(x), axis=-1)`,   if your model does multi-class classification   (e.g. if it uses a `softmax` last-layer activation).* `(model.predict(x) > 0.5).astype(\"int32\")`,   if your model does binary classification   (e.g. if it uses a `sigmoid` last-layer activation).\n",
            "Help me Obi Wan Kenobi, you're my only hope on nature's loving loving parts ' her way ' place ' her head alone note do strive be die so young in know it not in me well lived is it did love are still my grief day add to spend spend clearer quite hate dyed grow new of know new love of mine eyes it live you still you best in told i do not press see thee born ' doth take gone my dear state to approve her way ' show me groan age prove true true sight doth words can write to me as mine eye shall\n"
          ],
          "name": "stdout"
        }
      ]
    }
  ]
}